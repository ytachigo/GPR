{
 "cells": [
  {
   "cell_type": "code",
   "execution_count": 14,
   "metadata": {
    "collapsed": true
   },
   "outputs": [],
   "source": [
    "%matplotlib inline\n",
    "\n",
    "# Import libraries\n",
    "import numpy as np\n",
    "import pandas as pd\n",
    "import matplotlib\n",
    "import matplotlib.pyplot as plt\n",
    "import seaborn as sns"
   ]
  },
  {
   "cell_type": "code",
   "execution_count": 58,
   "metadata": {
    "collapsed": true
   },
   "outputs": [],
   "source": [
    "# Implementation of GPR\n",
    "def get_kernel(sigma, length):\n",
    "    def kernel(x0, x1):\n",
    "        return sigma * np.exp(- length * ((x0 - x1) ** 2)) # Gaussian kernel\n",
    "        #return (np.dot(x0,x1) + 1) ** sigma # Polynomial kernel\n",
    "        #return np.dot(x0,x1) # Linear kernel\n",
    "    return kernel"
   ]
  },
  {
   "cell_type": "code",
   "execution_count": 59,
   "metadata": {},
   "outputs": [],
   "source": [
    "def gaussian_process_regression(train_x, train_y, kernel):\n",
    "    N = len(train_x)\n",
    "    k0 = np.zeros(shape=(N, N))\n",
    "    beta = float(train_y.var())\n",
    "\n",
    "    for n0, x0 in train_x.iterrows():\n",
    "        for n1, x1 in train_x.iterrows():\n",
    "            k0[n0, n1] = kernel(x0, x1)\n",
    "\n",
    "    noise_matrix = np.eye(N) * beta\n",
    "    a = np.linalg.inv(k0 + noise_matrix).dot(train_y)\n",
    "    \n",
    "    def prediction(x):\n",
    "        y_new = 0\n",
    "        for n in range(N):\n",
    "            y_new += kernel(train_x.iloc[n], x) * a[n]\n",
    "        return y_new\n",
    "    \n",
    "    def covariance(x):\n",
    "        var = 0\n",
    "        for n in range(N):\n",
    "            var += kernel(train_x.iloc[n], train_x.iloc[n]) * kernel(train_x.iloc[n], train_x.iloc[n]) * a[n]\n",
    "        return np.sqrt(kernel(x, x) - var)\n",
    "    return prediction, covariance"
   ]
  },
  {
   "cell_type": "code",
   "execution_count": 63,
   "metadata": {},
   "outputs": [],
   "source": [
    "#  Make datasets for training\n",
    "n= 100\n",
    "x = np.linspace(0, 2 * np.pi, n)\n",
    "y = np.array([np.sin(i) for i in x])\n",
    "y = y + 0.1 * np.random.randn(n)\n",
    "train_x = pd.DataFrame({'x': x})\n",
    "train_y = pd.DataFrame({'y': y})\n",
    "\n",
    "# Perform GPR\n",
    "prediction, covariance = gaussian_process_regression(train_x, train_y, get_kernel(5, 50))"
   ]
  },
  {
   "cell_type": "code",
   "execution_count": 64,
   "metadata": {},
   "outputs": [
    {
     "data": {
      "text/plain": [
       "Text(0,0.5,'y')"
      ]
     },
     "execution_count": 64,
     "metadata": {},
     "output_type": "execute_result"
    },
    {
     "data": {
      "image/png": "[encoded data removed]",
      "text/plain": [
       "<Figure size 432x288 with 1 Axes>"
      ]
     },
     "metadata": {},
     "output_type": "display_data"
    }
   ],
   "source": [
    "# Make a new dataset\n",
    "n = 100\n",
    "test_x = np.linspace(0, 2 * np.pi, n)\n",
    "\n",
    "# Prediction\n",
    "test_y = np.array([prediction(i) for i in test_x]).ravel()\n",
    "test_yerr = np.array([covariance(i) for i in test_x]).ravel()\n",
    "plt.plot(test_x, test_y)\n",
    "plt.fill_between(test_x, test_y - test_yerr, test_y + test_yerr, facecolor='b', alpha=0.3)\n",
    "plt.xlabel('x')\n",
    "plt.ylabel('y')"
   ]
  },
  {
   "cell_type": "code",
   "execution_count": null,
   "metadata": {
    "collapsed": true
   },
   "outputs": [],
   "source": []
  }
 ],
 "metadata": {
  "kernelspec": {
   "display_name": "Python 3",
   "language": "python",
   "name": "python3"
  },
  "language_info": {
   "codemirror_mode": {
    "name": "ipython",
    "version": 3
   },
   "file_extension": ".py",
   "mimetype": "text/x-python",
   "name": "python",
   "nbconvert_exporter": "python",
   "pygments_lexer": "ipython3",
   "version": "3.5.5"
  }
 },
 "nbformat": 4,
 "nbformat_minor": 2
}
