{
 "cells": [
  {
   "cell_type": "code",
   "execution_count": 1,
   "metadata": {
    "collapsed": true
   },
   "outputs": [],
   "source": [
    "%matplotlib inline\n",
    "\n",
    "# Import libraries\n",
    "import numpy as np\n",
    "import pandas as pd\n",
    "import matplotlib\n",
    "import matplotlib.pyplot as plt\n",
    "import seaborn as sns"
   ]
  },
  {
   "cell_type": "code",
   "execution_count": 2,
   "metadata": {
    "collapsed": true
   },
   "outputs": [],
   "source": [
    "# Implementation of GPR\n",
    "def get_kernel(sigma):\n",
    "    def kernel(x0, x1):\n",
    "        return np.exp(- sigma * (np.linalg.norm(x0 - x1) ** 2)) # Gaussian kernel\n",
    "        #return (np.dot(x0,x1) + 1) ** sigma # Polynomial kernel\n",
    "        #return np.dot(x0,x1) # Linear kernel\n",
    "    return kernel"
   ]
  },
  {
   "cell_type": "code",
   "execution_count": 3,
   "metadata": {
    "collapsed": true
   },
   "outputs": [],
   "source": [
    "def gaussian_process_regression(train_x, train_y, kernel):\n",
    "    N = len(train_x)\n",
    "    k0 = np.zeros(shape=(N,N))\n",
    "    beta = float(train_y.var())\n",
    "\n",
    "    for n0, x0 in train_x.iterrows():\n",
    "        for n1, x1 in train_x.iterrows():\n",
    "            k0[n0,n1] = kernel(x0,x1)\n",
    "\n",
    "    noise_matrix = np.eye(N) * beta\n",
    "    a = np.linalg.inv(k0 + noise_matrix).dot(train_y)\n",
    "    \n",
    "    def prediction(x):\n",
    "        y_new = 0\n",
    "        for n in range(N):\n",
    "            y_new += kernel(x, train_x.iloc[n]) * a[n]\n",
    "        return y_new\n",
    "    return prediction"
   ]
  },
  {
   "cell_type": "code",
   "execution_count": 5,
   "metadata": {},
   "outputs": [],
   "source": [
    "#  Make datasets for training\n",
    "n= 100\n",
    "x = np.linspace(0, 2 * np.pi, n)\n",
    "y = np.array([np.sin(i) for i in x])\n",
    "y = y + 0.1 * np.random.randn(n)\n",
    "train_x = pd.DataFrame({'x': x})\n",
    "train_y = pd.DataFrame({'y': y})\n",
    "\n",
    "# Perform GPR\n",
    "prediction = gaussian_process_regression(train_x, train_y, get_kernel(50))"
   ]
  },
  {
   "cell_type": "code",
   "execution_count": 7,
   "metadata": {},
   "outputs": [
    {
     "data": {
      "text/plain": [
       "<matplotlib.text.Text at 0x114ff99e8>"
      ]
     },
     "execution_count": 7,
     "metadata": {},
     "output_type": "execute_result"
    },
    {
     "data": {
      "image/png": "[encoded data removed]",
      "text/plain": [
       "<matplotlib.figure.Figure at 0x114fa8668>"
      ]
     },
     "metadata": {},
     "output_type": "display_data"
    }
   ],
   "source": [
    "# Make a new dataset\n",
    "n = 1000\n",
    "test_x = np.linspace(0, 2 * np.pi, n)\n",
    "\n",
    "# Prediction\n",
    "test_y = [prediction(i) for i in test_x]\n",
    "plt.plot(test_x, test_y)\n",
    "plt.xlabel('x')\n",
    "plt.ylabel('y')"
   ]
  },
  {
   "cell_type": "code",
   "execution_count": null,
   "metadata": {
    "collapsed": true
   },
   "outputs": [],
   "source": []
  }
 ],
 "metadata": {
  "kernelspec": {
   "display_name": "Python 3",
   "language": "python",
   "name": "python3"
  },
  "language_info": {
   "codemirror_mode": {
    "name": "ipython",
    "version": 3
   },
   "file_extension": ".py",
   "mimetype": "text/x-python",
   "name": "python",
   "nbconvert_exporter": "python",
   "pygments_lexer": "ipython3",
   "version": "3.5.3"
  }
 },
 "nbformat": 4,
 "nbformat_minor": 2
}
