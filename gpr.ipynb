{
 "cells": [
  {
   "cell_type": "markdown",
   "metadata": {
    "collapsed": true
   },
   "source": [
    "### Example for a function sin(x)."
   ]
  },
  {
   "cell_type": "code",
   "execution_count": 39,
   "metadata": {
    "collapsed": true
   },
   "outputs": [],
   "source": [
    "%matplotlib inline\n",
    "\n",
    "# Import libraries\n",
    "import numpy as np\n",
    "import pandas as pd\n",
    "import matplotlib\n",
    "import matplotlib.pyplot as plt\n",
    "import seaborn as sns"
   ]
  },
  {
   "cell_type": "code",
   "execution_count": 40,
   "metadata": {
    "collapsed": true
   },
   "outputs": [],
   "source": [
    "# Implementation of GPR\n",
    "def kernel(x0, x1, sigma):\n",
    "    X0, X1 = np.meshgrid(x0, x1)\n",
    "    return np.exp(- sigma * (np.abs(X0 - X1) ** 2)) # Gaussian kernel\n",
    "    #return (np.dot(X0, X1) + 1) ** sigma # Polynomial kernel\n",
    "    #return np.dot(X0, X1) # Linear kernel"
   ]
  },
  {
   "cell_type": "code",
   "execution_count": 41,
   "metadata": {
    "collapsed": true
   },
   "outputs": [],
   "source": [
    "def model_construction(train_x, train_y, initial_sigma):\n",
    "    beta = float(train_y.var())\n",
    "    k0 = kernel(train_x, train_x, initial_sigma)\n",
    "    noise_matrix = np.eye(len(train_x)) * beta\n",
    "    cn = k0 + noise_matrix\n",
    "    cn_inv = np.linalg.inv(cn)\n",
    "    t = train_y.as_matrix()\n",
    "    t_trans = t.T\n",
    "\n",
    "    p = - (np.linalg.slogdet(cn)[1] + t_trans.dot(cn_inv).dot(t))\n",
    "    a = cn_inv.dot(t)\n",
    "    return (a, p[0])"
   ]
  },
  {
   "cell_type": "code",
   "execution_count": 42,
   "metadata": {
    "collapsed": true
   },
   "outputs": [],
   "source": [
    "def gaussian_process_regression(train_x, train_y, initial_sigma, iternum, step): # Perform GPR\n",
    "    h = 1e-4\n",
    "    for i in range(0, iternum): # Gradient discent\n",
    "        v1 = model_construction(train_x, train_y, initial_sigma + h)\n",
    "        v2 = model_construction(train_x, train_y, initial_sigma - h)\n",
    "        grad = (v1[1] - v2[1]) / (2 * h)\n",
    "        initial_sigma -= step * grad\n",
    "    model = model_construction(train_x, train_y, initial_sigma)\n",
    "    \n",
    "    def prediction(x):\n",
    "        y_new = 0\n",
    "        for n in range(len(train_x)):\n",
    "            y_new += kernel(train_x.iloc[n], x, initial_sigma) * model[0][n]\n",
    "        return y_new\n",
    "    \n",
    "    def covariance(x):\n",
    "        var = 0\n",
    "        for n in range(len(train_x)):\n",
    "            var += kernel(train_x.iloc[n], train_x.iloc[n], initial_sigma) * kernel(train_x.iloc[n], train_x.iloc[n], initial_sigma) * model[0][n]\n",
    "        return np.sqrt(kernel(x, x, initial_sigma) - var)\n",
    "    return prediction, covariance"
   ]
  },
  {
   "cell_type": "code",
   "execution_count": 43,
   "metadata": {
    "scrolled": true
   },
   "outputs": [],
   "source": [
    "#  Make datasets for training\n",
    "n= 100\n",
    "x = np.linspace(0, 2 * np.pi, n)\n",
    "y = np.array([np.sin(i) for i in x])\n",
    "y = y + 0.1 * np.random.randn(n)\n",
    "train_x = pd.DataFrame({'x': x})\n",
    "train_y = pd.DataFrame({'y': y})\n",
    "\n",
    "# Perform GPR\n",
    "prediction, covariance = gaussian_process_regression(train_x, train_y, initial_sigma=50, iternum=1000, step=1)"
   ]
  },
  {
   "cell_type": "code",
   "execution_count": 44,
   "metadata": {},
   "outputs": [
    {
     "data": {
      "text/plain": [
       "Text(0,0.5,'y')"
      ]
     },
     "execution_count": 44,
     "metadata": {},
     "output_type": "execute_result"
    },
    {
     "data": {
      "image/png": "[encoded data removed]",
      "text/plain": [
       "<Figure size 432x288 with 1 Axes>"
      ]
     },
     "metadata": {},
     "output_type": "display_data"
    }
   ],
   "source": [
    "# Make a new dataset\n",
    "n = 100\n",
    "test_x = np.linspace(0, 2 * np.pi, n)\n",
    "\n",
    "# Prediction\n",
    "test_y = np.array([prediction(i) for i in test_x]).ravel()\n",
    "test_yerr = np.array([covariance(i) for i in test_x]).ravel()\n",
    "plt.plot(test_x, test_y)\n",
    "plt.fill_between(test_x, test_y - test_yerr, test_y + test_yerr, facecolor='b', alpha=0.1)\n",
    "plt.xlabel('x')\n",
    "plt.ylabel('y')"
   ]
  },
  {
   "cell_type": "code",
   "execution_count": null,
   "metadata": {
    "collapsed": true
   },
   "outputs": [],
   "source": []
  }
 ],
 "metadata": {
  "kernelspec": {
   "display_name": "Python 3",
   "language": "python",
   "name": "python3"
  },
  "language_info": {
   "codemirror_mode": {
    "name": "ipython",
    "version": 3
   },
   "file_extension": ".py",
   "mimetype": "text/x-python",
   "name": "python",
   "nbconvert_exporter": "python",
   "pygments_lexer": "ipython3",
   "version": "3.5.5"
  }
 },
 "nbformat": 4,
 "nbformat_minor": 2
}
