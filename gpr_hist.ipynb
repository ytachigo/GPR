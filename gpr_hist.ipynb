{
 "cells": [
  {
   "cell_type": "code",
   "execution_count": 85,
   "metadata": {
    "collapsed": true
   },
   "outputs": [],
   "source": [
    "%matplotlib inline\n",
    "\n",
    "# Import libraries\n",
    "import numpy as np\n",
    "import pandas as pd\n",
    "import matplotlib\n",
    "import matplotlib.pyplot as plt\n",
    "import seaborn as sns"
   ]
  },
  {
   "cell_type": "code",
   "execution_count": 99,
   "metadata": {},
   "outputs": [],
   "source": [
    "# Implementation of GPR\n",
    "def get_kernel(sigma, length):\n",
    "    def kernel(x0, x1):\n",
    "        return sigma * np.exp(- length * ((x0 - x1) ** 2)) # Gaussian kernel\n",
    "        #return (np.dot(x0,x1) + 1) ** sigma # Polynomial kernel\n",
    "        #return np.dot(x0,x1) # Linear kernel\n",
    "    return kernel"
   ]
  },
  {
   "cell_type": "code",
   "execution_count": 100,
   "metadata": {
    "collapsed": true
   },
   "outputs": [],
   "source": [
    "def gaussian_process_regression(train_x, train_y, kernel):\n",
    "    N = len(train_x)\n",
    "    k = np.zeros(shape=(N, N))\n",
    "    beta = float(train_y.var())\n",
    "    h = np.array([])\n",
    "\n",
    "    for i, bin_num in train_y.iterrows():\n",
    "        if int(bin_num) > 0:\n",
    "            h = np.append(h, 1)\n",
    "        else: h = np.append(h, 0)\n",
    "\n",
    "    for n0, x0 in train_x.iterrows():\n",
    "        for n1, x1 in train_x.iterrows():\n",
    "            k[n0, n1] = kernel(x0, x1)\n",
    "\n",
    "    noise_matrix = np.eye(N) * beta\n",
    "    ky = k + noise_matrix\n",
    "    ky_inv = np.linalg.inv(ky)\n",
    "    kh0 = h.dot(ky_inv).dot(h.T)\n",
    "    kh1 = h.T.dot(h) * ky_inv\n",
    "\n",
    "    a_tilde = (ky_inv - ky_inv * kh1 / kh0).dot(train_y)\n",
    "\n",
    "    def prediction(x):\n",
    "        y_new = 0\n",
    "        for n in range(N):\n",
    "            y_new += kernel(train_x.iloc[n], x) * a_tilde[n]\n",
    "        return y_new\n",
    "\n",
    "    def covariance(x):\n",
    "        var = 0\n",
    "        for n in range(N):\n",
    "            var += kernel(train_x.iloc[n], x) * kernel(train_x.iloc[n], x) * a_tilde[n]\n",
    "        return np.sqrt(kernel(x, x) - var)\n",
    "    return prediction, covariance"
   ]
  },
  {
   "cell_type": "code",
   "execution_count": 101,
   "metadata": {
    "collapsed": true
   },
   "outputs": [],
   "source": [
    "# Read input files\n",
    "df_0a = pd.read_table('dihedral_0a.dat', delim_whitespace=True, names=['frame', 'a_psi', 'a_phi'])\n",
    "df_0a = df_0a[df_0a['frame'] != '#Frame'].astype(float).drop(['frame', 'a_phi'], axis=1)\n",
    "df_1a = pd.read_table('dihedral_1a.dat', delim_whitespace=True, names=['frame', 'a_psi', 'a_phi'])\n",
    "df_1a = df_1a[df_1a['frame'] != '#Frame'].astype(float).drop(['frame', 'a_phi'], axis=1)"
   ]
  },
  {
   "cell_type": "code",
   "execution_count": 102,
   "metadata": {},
   "outputs": [
    {
     "data": {
      "image/png": "[encoded data removed]",
      "text/plain": [
       "<Figure size 432x288 with 1 Axes>"
      ]
     },
     "metadata": {},
     "output_type": "display_data"
    }
   ],
   "source": [
    "#  Make datasets for training\n",
    "sample_data = df_0a.sample(1000).reset_index(drop=True)\n",
    "hist = plt.hist(sample_data['a_psi'], bins=180)\n",
    "mid = np.array([0 for i in range (len(hist[1]) - 1)])\n",
    "\n",
    "for i, v in enumerate(hist[1]):\n",
    "    if i != 0:\n",
    "        mid[i - 1] = (hist[1][i] + hist[1][i - 1]) / 2\n",
    "mid = mid * (np.pi / 180)\n",
    "\n",
    "train_y = pd.DataFrame({'y': hist[0]})\n",
    "train_x = pd.DataFrame({'x': mid})"
   ]
  },
  {
   "cell_type": "code",
   "execution_count": 105,
   "metadata": {},
   "outputs": [],
   "source": [
    "# Perform GPR\n",
    "prediction, covariance = gaussian_process_regression(train_x, train_y, get_kernel(-5, 50))"
   ]
  },
  {
   "cell_type": "code",
   "execution_count": 106,
   "metadata": {},
   "outputs": [
    {
     "name": "stderr",
     "output_type": "stream",
     "text": [
      "/Users/tachi/.pyenv/versions/anaconda3-4.0.0/lib/python3.5/site-packages/ipykernel_launcher.py:34: RuntimeWarning: invalid value encountered in sqrt\n"
     ]
    },
    {
     "data": {
      "text/plain": [
       "Text(0,0.5,'y')"
      ]
     },
     "execution_count": 106,
     "metadata": {},
     "output_type": "execute_result"
    },
    {
     "data": {
      "image/png": "[encoded data removed]",
      "text/plain": [
       "<Figure size 432x288 with 1 Axes>"
      ]
     },
     "metadata": {},
     "output_type": "display_data"
    }
   ],
   "source": [
    "# Make a new dataset\n",
    "n = 100\n",
    "test_x = np.linspace(- np.pi, np.pi, n)\n",
    "\n",
    "# Prediction\n",
    "test_y = np.array([prediction(i) for i in test_x]).ravel()\n",
    "test_yerr = np.array([covariance(i) for i in test_x]).ravel()\n",
    "plt.plot(test_x, test_y)\n",
    "plt.fill_between(test_x, test_y - test_yerr, test_y + test_yerr, facecolor='b', alpha=0.3)\n",
    "plt.xlabel('x')\n",
    "plt.ylabel('y')"
   ]
  },
  {
   "cell_type": "code",
   "execution_count": null,
   "metadata": {
    "collapsed": true
   },
   "outputs": [],
   "source": []
  }
 ],
 "metadata": {
  "kernelspec": {
   "display_name": "Python 3",
   "language": "python",
   "name": "python3"
  },
  "language_info": {
   "codemirror_mode": {
    "name": "ipython",
    "version": 3
   },
   "file_extension": ".py",
   "mimetype": "text/x-python",
   "name": "python",
   "nbconvert_exporter": "python",
   "pygments_lexer": "ipython3",
   "version": "3.5.5"
  }
 },
 "nbformat": 4,
 "nbformat_minor": 2
}
